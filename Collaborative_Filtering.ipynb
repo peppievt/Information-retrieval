{
  "nbformat": 4,
  "nbformat_minor": 0,
  "metadata": {
    "colab": {
      "name": "Collaborative Filtering.ipynb",
      "provenance": [],
      "collapsed_sections": []
    },
    "kernelspec": {
      "name": "python2",
      "display_name": "Python 2"
    }
  },
  "cells": [
    {
      "cell_type": "code",
      "metadata": {
        "id": "Y7nm3gUp8Dg_",
        "colab": {
          "base_uri": "https://localhost:8080/",
          "height": 541
        },
        "outputId": "28e61347-e6d9-49dd-ee07-c4b7d0a8fb5d"
      },
      "source": [
        "!pip install recmetrics"
      ],
      "execution_count": null,
      "outputs": [
        {
          "output_type": "stream",
          "text": [
            "Collecting recmetrics\n",
            "  Downloading https://files.pythonhosted.org/packages/fe/0e/2d2b557dea96ae334661f9066913d633193e71c21504df220de385775bfd/recmetrics-0.0.12-py2-none-any.whl\n",
            "Requirement already satisfied: numpy in /usr/local/lib/python2.7/dist-packages (from recmetrics) (1.16.4)\n",
            "Collecting surprise\n",
            "  Downloading https://files.pythonhosted.org/packages/61/de/e5cba8682201fcf9c3719a6fdda95693468ed061945493dea2dd37c5618b/surprise-0.1-py2.py3-none-any.whl\n",
            "Requirement already satisfied: seaborn in /usr/local/lib/python2.7/dist-packages (from recmetrics) (0.9.0)\n",
            "Requirement already satisfied: pandas in /usr/local/lib/python2.7/dist-packages (from recmetrics) (0.24.2)\n",
            "Requirement already satisfied: scikit-learn in /usr/local/lib/python2.7/dist-packages (from recmetrics) (0.20.3)\n",
            "Collecting scikit-surprise\n",
            "\u001b[?25l  Downloading https://files.pythonhosted.org/packages/f5/da/b5700d96495fb4f092be497f02492768a3d96a3f4fa2ae7dea46d4081cfa/scikit-surprise-1.1.0.tar.gz (6.4MB)\n",
            "\u001b[K     |████████████████████████████████| 6.5MB 3.9MB/s \n",
            "\u001b[?25hRequirement already satisfied: scipy>=0.14.0 in /usr/local/lib/python2.7/dist-packages (from seaborn->recmetrics) (1.2.2)\n",
            "Requirement already satisfied: matplotlib>=1.4.3 in /usr/local/lib/python2.7/dist-packages (from seaborn->recmetrics) (2.2.4)\n",
            "Requirement already satisfied: pytz>=2011k in /usr/local/lib/python2.7/dist-packages (from pandas->recmetrics) (2018.9)\n",
            "Requirement already satisfied: python-dateutil>=2.5.0 in /usr/local/lib/python2.7/dist-packages (from pandas->recmetrics) (2.5.3)\n",
            "Requirement already satisfied: joblib>=0.11 in /usr/local/lib/python2.7/dist-packages (from scikit-surprise->surprise->recmetrics) (0.12.5)\n",
            "Requirement already satisfied: six>=1.10.0 in /usr/local/lib/python2.7/dist-packages (from scikit-surprise->surprise->recmetrics) (1.12.0)\n",
            "Requirement already satisfied: cycler>=0.10 in /usr/local/lib/python2.7/dist-packages (from matplotlib>=1.4.3->seaborn->recmetrics) (0.10.0)\n",
            "Requirement already satisfied: backports.functools-lru-cache in /usr/local/lib/python2.7/dist-packages (from matplotlib>=1.4.3->seaborn->recmetrics) (1.5)\n",
            "Requirement already satisfied: subprocess32 in /usr/local/lib/python2.7/dist-packages (from matplotlib>=1.4.3->seaborn->recmetrics) (3.5.4)\n",
            "Requirement already satisfied: kiwisolver>=1.0.1 in /usr/local/lib/python2.7/dist-packages (from matplotlib>=1.4.3->seaborn->recmetrics) (1.1.0)\n",
            "Requirement already satisfied: pyparsing!=2.0.4,!=2.1.2,!=2.1.6,>=2.0.1 in /usr/local/lib/python2.7/dist-packages (from matplotlib>=1.4.3->seaborn->recmetrics) (2.4.0)\n",
            "Requirement already satisfied: setuptools in /usr/local/lib/python2.7/dist-packages (from kiwisolver>=1.0.1->matplotlib>=1.4.3->seaborn->recmetrics) (42.0.2)\n",
            "Building wheels for collected packages: scikit-surprise\n",
            "  Building wheel for scikit-surprise (setup.py) ... \u001b[?25l\u001b[?25hdone\n",
            "  Created wheel for scikit-surprise: filename=scikit_surprise-1.1.0-cp27-cp27mu-linux_x86_64.whl size=1572931 sha256=e206a05b42b505c365c3699aaac22c3fc53ad8575df55fce22bb312e9ac8cb5d\n",
            "  Stored in directory: /root/.cache/pip/wheels/cc/fa/8c/16c93fccce688ae1bde7d979ff102f7bee980d9cfeb8641bcf\n",
            "Successfully built scikit-surprise\n",
            "Installing collected packages: scikit-surprise, surprise, recmetrics\n",
            "Successfully installed recmetrics-0.0.12 scikit-surprise-1.1.0 surprise-0.1\n"
          ],
          "name": "stdout"
        }
      ]
    },
    {
      "cell_type": "code",
      "metadata": {
        "id": "BO2O6CnDcNsc"
      },
      "source": [
        "import numpy as np\n",
        "import tensorflow as tf\n",
        "import pandas as pd\n",
        "import matplotlib.pyplot as plt\n",
        "from math import sqrt\n",
        "from sklearn.metrics import mean_squared_error, pairwise_distances\n",
        "import sklearn.model_selection as cv\n",
        "import funcsigs\n",
        "import recmetrics\n",
        "from scipy.interpolate import interp1d\n"
      ],
      "execution_count": null,
      "outputs": []
    },
    {
      "cell_type": "code",
      "metadata": {
        "id": "kOjIYgs8izln",
        "colab": {
          "base_uri": "https://localhost:8080/",
          "height": 360
        },
        "outputId": "5618ac5c-4040-462c-87dd-abe8b06d2398"
      },
      "source": [
        "df = pd.read_csv('ratings.csv')\n",
        "df_pivot = pd.pivot_table(df, values = 'rating', index = 'userId', columns = 'movieId').fillna(0)\n",
        "\n",
        "data_matrix = np.array(df_pivot)\n",
        "plt.style.use('ggplot')\n",
        "plt.hist(df['rating'])\n",
        "print(len(np.unique(df['movieId'])))\n",
        "print(len(np.unique(df['userId'])))\n",
        "print(610*9724)\n",
        "print(len(df['rating'])/ (610*9724)*100)\n",
        "print(len(data_matrix),len(data_matrix[0]))"
      ],
      "execution_count": null,
      "outputs": [
        {
          "output_type": "stream",
          "text": [
            "9724\n",
            "610\n",
            "5931640\n",
            "0\n",
            "(610, 9724)\n"
          ],
          "name": "stdout"
        },
        {
          "output_type": "display_data",
          "data": {
            "image/png": "[encoded data removed]",
            "text/plain": [
              "<Figure size 432x288 with 1 Axes>"
            ]
          },
          "metadata": {
            "tags": []
          }
        }
      ]
    },
    {
      "cell_type": "code",
      "metadata": {
        "id": "iaah0tNup9uV"
      },
      "source": [
        "train_data, test_data = cv.train_test_split(data_matrix, test_size=0.4)"
      ],
      "execution_count": null,
      "outputs": []
    },
    {
      "cell_type": "code",
      "metadata": {
        "id": "4caDPabSLmbt",
        "colab": {
          "base_uri": "https://localhost:8080/",
          "height": 35
        },
        "outputId": "8cd74a75-81fe-4963-dd85-f9c311a4d05e"
      },
      "source": [
        "print(data_matrix.shape)"
      ],
      "execution_count": null,
      "outputs": [
        {
          "output_type": "stream",
          "text": [
            "(610, 9724)\n"
          ],
          "name": "stdout"
        }
      ]
    },
    {
      "cell_type": "code",
      "metadata": {
        "id": "LvFjcgULl9Hw"
      },
      "source": [
        "# User Similarity Matrix\n",
        "user_correlation = 1 - pairwise_distances(train_data, metric='correlation')\n",
        "user_correlation[np.isnan(user_correlation)] = 0\n",
        "\n",
        "# Item Similarity Matrix\n",
        "item_correlation = 1 - pairwise_distances(train_data.T, metric='correlation')\n",
        "item_correlation[np.isnan(item_correlation)] = 0"
      ],
      "execution_count": null,
      "outputs": []
    },
    {
      "cell_type": "code",
      "metadata": {
        "id": "CJp3Rxunmtbl",
        "colab": {
          "base_uri": "https://localhost:8080/",
          "height": 253
        },
        "outputId": "106d3054-2b86-4256-ed63-be26ee52b19a"
      },
      "source": [
        "print(item_correlation)"
      ],
      "execution_count": null,
      "outputs": [
        {
          "output_type": "stream",
          "text": [
            "[[ 1.          0.21035945  0.1963873  ... -0.03587593 -0.03587593\n",
            "  -0.03587593]\n",
            " [ 0.21035945  1.          0.30175254 ... -0.02356604 -0.02356604\n",
            "  -0.02356604]\n",
            " [ 0.1963873   0.30175254  1.         ... -0.01564028 -0.01564028\n",
            "  -0.01564028]\n",
            " ...\n",
            " [-0.03587593 -0.02356604 -0.01564028 ...  1.          1.\n",
            "  -0.00273973]\n",
            " [-0.03587593 -0.02356604 -0.01564028 ...  1.          1.\n",
            "  -0.00273973]\n",
            " [-0.03587593 -0.02356604 -0.01564028 ... -0.00273973 -0.00273973\n",
            "   1.        ]]\n"
          ],
          "name": "stdout"
        }
      ]
    },
    {
      "cell_type": "code",
      "metadata": {
        "id": "kC-tzIvCmumb"
      },
      "source": [
        "# Function to predict ratings\n",
        "def predict(ratings, similarity, type='user'):\n",
        "    if type == 'user':\n",
        "        #mean_user_rating = ratings.mean(axis=1)\n",
        "        mean_user_rating = ratings.sum(axis=1)/(ratings != 0).sum(axis=1)\n",
        "        # Use np.newaxis so that mean_user_rating has same format as ratings\n",
        "        ratings_diff = (ratings - mean_user_rating[:, np.newaxis])\n",
        "        pred = mean_user_rating[:, np.newaxis] + similarity.dot(ratings_diff) / np.array([np.abs(similarity).sum(axis=1)]).T\n",
        "    elif type == 'item':\n",
        "        pred = ratings.dot(similarity) / np.array([np.abs(similarity).sum(axis=1)])\n",
        "    return pred"
      ],
      "execution_count": null,
      "outputs": []
    },
    {
      "cell_type": "code",
      "metadata": {
        "id": "dYLzyeARngxV"
      },
      "source": [
        "# Function to calculate RMSE\n",
        "def rmse(pred, actual):\n",
        "    # Ignore zero terms.\n",
        "    pred = pred[actual.nonzero()].flatten()\n",
        "    actual = actual[actual.nonzero()].flatten()\n",
        "    return sqrt(mean_squared_error(pred, actual))\n",
        "# Predict ratings on the training data with both similarity score\n",
        "user_prediction = predict(train_data, user_correlation, type='user')\n",
        "item_prediction = predict(train_data.T, item_correlation, type='item')"
      ],
      "execution_count": null,
      "outputs": []
    },
    {
      "cell_type": "code",
      "metadata": {
        "id": "vA4zsbyh9VHv"
      },
      "source": [
        "# Linear mapping of ratings to scale [1,5]\n",
        "user_prediction = np.interp(user_prediction, (user_prediction.min(), user_prediction.max()), (1, 5))\n",
        "item_prediction = np.interp(item_prediction, (item_prediction.min(), item_prediction.max()), (1, 5))\n"
      ],
      "execution_count": null,
      "outputs": []
    },
    {
      "cell_type": "code",
      "metadata": {
        "id": "LBeH5i7jnl1z",
        "colab": {
          "base_uri": "https://localhost:8080/",
          "height": 181
        },
        "outputId": "206e79dd-96db-4712-bfc5-49f93258eb56"
      },
      "source": [
        "# RMSE on the train data\n",
        "print('User-based CF RMSE: ' + str(rmse(user_prediction, train_data)))\n",
        "print('Item-based CF RMSE: ' + str(rmse(item_prediction, train_data)))\n",
        "\n",
        "print(user_prediction)"
      ],
      "execution_count": null,
      "outputs": [
        {
          "output_type": "stream",
          "text": [
            "User-based CF RMSE: 1.53362203438\n",
            "Item-based CF RMSE: 1.42965182492\n",
            "[[2.9541798  2.35449671 2.02134112 ... 1.7850756  1.7850756  1.79279123]\n",
            " [3.37463357 2.77067019 2.51171815 ... 2.35478614 2.35478614 2.36374941]\n",
            " [2.64991451 2.16157797 1.91883187 ... 1.72233334 1.72233334 1.72288346]\n",
            " ...\n",
            " [2.3236875  1.75818901 1.48551643 ... 1.28530291 1.28530291 1.29589733]\n",
            " [3.27747937 2.80673227 2.49467414 ... 2.19821327 2.19821327 2.20156283]\n",
            " [3.33595259 2.53288706 2.24658578 ... 2.08346737 2.08346737 2.09706409]]\n"
          ],
          "name": "stdout"
        }
      ]
    },
    {
      "cell_type": "code",
      "metadata": {
        "id": "mXHR2VXKr4L3"
      },
      "source": [
        "print(recmetrics.coverage(train_data ,user_prediction))\n",
        "print(recmetrics.recommender_recall(train_data, user_prediction))\n",
        "#recmetrics.precision_recall_plot(train_data, user_prediction)"
      ],
      "execution_count": null,
      "outputs": []
    },
    {
      "cell_type": "code",
      "metadata": {
        "id": "ZbtJB7r0strd"
      },
      "source": [
        ""
      ],
      "execution_count": null,
      "outputs": []
    }
  ]
}