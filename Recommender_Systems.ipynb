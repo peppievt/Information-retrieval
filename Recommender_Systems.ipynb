{
  "nbformat": 4,
  "nbformat_minor": 0,
  "metadata": {
    "colab": {
      "name": "Recommender Systems.ipynb",
      "provenance": [],
      "collapsed_sections": [],
      "toc_visible": true
    },
    "kernelspec": {
      "name": "python3",
      "display_name": "Python 3"
    }
  },
  "cells": [
    {
      "cell_type": "code",
      "metadata": {
        "id": "2hSQnZjmcXb5",
        "colab": {
          "base_uri": "https://localhost:8080/",
          "height": 578
        },
        "outputId": "3aca898a-061b-4e52-a301-426a47f30784"
      },
      "source": [
        "!pip install surprise\n",
        "!pip install git+https://github.com/gbolmier/funk-svd"
      ],
      "execution_count": null,
      "outputs": [
        {
          "output_type": "stream",
          "text": [
            "Collecting surprise\n",
            "  Downloading https://files.pythonhosted.org/packages/61/de/e5cba8682201fcf9c3719a6fdda95693468ed061945493dea2dd37c5618b/surprise-0.1-py2.py3-none-any.whl\n",
            "Collecting scikit-surprise\n",
            "\u001b[?25l  Downloading https://files.pythonhosted.org/packages/f5/da/b5700d96495fb4f092be497f02492768a3d96a3f4fa2ae7dea46d4081cfa/scikit-surprise-1.1.0.tar.gz (6.4MB)\n",
            "\u001b[K     |████████████████████████████████| 6.5MB 4.3MB/s \n",
            "\u001b[?25hRequirement already satisfied: joblib>=0.11 in /usr/local/lib/python3.6/dist-packages (from scikit-surprise->surprise) (0.14.1)\n",
            "Requirement already satisfied: numpy>=1.11.2 in /usr/local/lib/python3.6/dist-packages (from scikit-surprise->surprise) (1.17.4)\n",
            "Requirement already satisfied: scipy>=1.0.0 in /usr/local/lib/python3.6/dist-packages (from scikit-surprise->surprise) (1.3.3)\n",
            "Requirement already satisfied: six>=1.10.0 in /usr/local/lib/python3.6/dist-packages (from scikit-surprise->surprise) (1.12.0)\n",
            "Building wheels for collected packages: scikit-surprise\n",
            "  Building wheel for scikit-surprise (setup.py) ... \u001b[?25l\u001b[?25hdone\n",
            "  Created wheel for scikit-surprise: filename=scikit_surprise-1.1.0-cp36-cp36m-linux_x86_64.whl size=1678226 sha256=fa506ecd423433eed582bd8c5f39402194a621b3d88eb9a63ae57727c13d2ff0\n",
            "  Stored in directory: /root/.cache/pip/wheels/cc/fa/8c/16c93fccce688ae1bde7d979ff102f7bee980d9cfeb8641bcf\n",
            "Successfully built scikit-surprise\n",
            "Installing collected packages: scikit-surprise, surprise\n",
            "Successfully installed scikit-surprise-1.1.0 surprise-0.1\n",
            "Collecting git+https://github.com/gbolmier/funk-svd\n",
            "  Cloning https://github.com/gbolmier/funk-svd to /tmp/pip-req-build-5grdnubo\n",
            "  Running command git clone -q https://github.com/gbolmier/funk-svd /tmp/pip-req-build-5grdnubo\n",
            "Requirement already satisfied: numba>=0.38.0 in /usr/local/lib/python3.6/dist-packages (from funk-svd==0.0.1.dev1) (0.40.1)\n",
            "Requirement already satisfied: numpy>=1.14.3 in /usr/local/lib/python3.6/dist-packages (from funk-svd==0.0.1.dev1) (1.17.4)\n",
            "Requirement already satisfied: pandas>=0.23.0 in /usr/local/lib/python3.6/dist-packages (from funk-svd==0.0.1.dev1) (0.25.3)\n",
            "Requirement already satisfied: llvmlite>=0.25.0dev0 in /usr/local/lib/python3.6/dist-packages (from numba>=0.38.0->funk-svd==0.0.1.dev1) (0.30.0)\n",
            "Requirement already satisfied: python-dateutil>=2.6.1 in /usr/local/lib/python3.6/dist-packages (from pandas>=0.23.0->funk-svd==0.0.1.dev1) (2.6.1)\n",
            "Requirement already satisfied: pytz>=2017.2 in /usr/local/lib/python3.6/dist-packages (from pandas>=0.23.0->funk-svd==0.0.1.dev1) (2018.9)\n",
            "Requirement already satisfied: six>=1.5 in /usr/local/lib/python3.6/dist-packages (from python-dateutil>=2.6.1->pandas>=0.23.0->funk-svd==0.0.1.dev1) (1.12.0)\n",
            "Building wheels for collected packages: funk-svd\n",
            "  Building wheel for funk-svd (setup.py) ... \u001b[?25l\u001b[?25hdone\n",
            "  Created wheel for funk-svd: filename=funk_svd-0.0.1.dev1-cp36-none-any.whl size=8259 sha256=ef690c78ec4f6444427cf0addd2ed6d5216b4c9fe27afb247a7383772fa6845b\n",
            "  Stored in directory: /tmp/pip-ephem-wheel-cache-jjcd5q_q/wheels/66/f1/cb/e8147525b73388cc0bd5588c915e731ab65aba9a968e3ba455\n",
            "Successfully built funk-svd\n",
            "Installing collected packages: funk-svd\n",
            "Successfully installed funk-svd-0.0.1.dev1\n"
          ],
          "name": "stdout"
        }
      ]
    },
    {
      "cell_type": "code",
      "metadata": {
        "id": "0Mwt9QJYVRSD",
        "colab": {
          "base_uri": "https://localhost:8080/",
          "height": 363
        },
        "outputId": "a421bd16-f374-426c-8dc5-1b4e78bdbdc9"
      },
      "source": [
        "import pandas as pd\n",
        "import numpy as np\n",
        "from math import sqrt\n",
        "from collections import defaultdict\n",
        "import matplotlib.pyplot as plt\n",
        "from sklearn.metrics.pairwise import pairwise_distances\n",
        "from sklearn.metrics import mean_squared_error\n",
        "from sklearn.model_selection import KFold as sk_KFold\n",
        "\n",
        "from scipy.sparse.linalg import svds \n",
        "\n",
        "from surprise import Reader, SVD, Dataset, accuracy\n",
        "from surprise.model_selection import cross_validate, train_test_split\n",
        "from surprise.model_selection import KFold as surp_KFold\n",
        "import surprise\n",
        "import timeit\n",
        "\n",
        "from sklearn.model_selection import KFold\n",
        "\n",
        "import funk_svd\n",
        "from funk_svd.dataset import fetch_ml_ratings\n",
        "from tqdm import tqdm, tqdm_notebook\n",
        "import scipy"
      ],
      "execution_count": null,
      "outputs": [
        {
          "output_type": "error",
          "ename": "ModuleNotFoundError",
          "evalue": "ignored",
          "traceback": [
            "\u001b[0;31m---------------------------------------------------------------------------\u001b[0m",
            "\u001b[0;31mModuleNotFoundError\u001b[0m                       Traceback (most recent call last)",
            "\u001b[0;32m<ipython-input-1-d53415440e3e>\u001b[0m in \u001b[0;36m<module>\u001b[0;34m()\u001b[0m\n\u001b[1;32m     10\u001b[0m \u001b[0;32mfrom\u001b[0m \u001b[0mscipy\u001b[0m\u001b[0;34m.\u001b[0m\u001b[0msparse\u001b[0m\u001b[0;34m.\u001b[0m\u001b[0mlinalg\u001b[0m \u001b[0;32mimport\u001b[0m \u001b[0msvds\u001b[0m\u001b[0;34m\u001b[0m\u001b[0;34m\u001b[0m\u001b[0m\n\u001b[1;32m     11\u001b[0m \u001b[0;34m\u001b[0m\u001b[0m\n\u001b[0;32m---> 12\u001b[0;31m \u001b[0;32mfrom\u001b[0m \u001b[0msurprise\u001b[0m \u001b[0;32mimport\u001b[0m \u001b[0mReader\u001b[0m\u001b[0;34m,\u001b[0m \u001b[0mSVD\u001b[0m\u001b[0;34m,\u001b[0m \u001b[0mDataset\u001b[0m\u001b[0;34m,\u001b[0m \u001b[0maccuracy\u001b[0m\u001b[0;34m\u001b[0m\u001b[0;34m\u001b[0m\u001b[0m\n\u001b[0m\u001b[1;32m     13\u001b[0m \u001b[0;32mfrom\u001b[0m \u001b[0msurprise\u001b[0m\u001b[0;34m.\u001b[0m\u001b[0mmodel_selection\u001b[0m \u001b[0;32mimport\u001b[0m \u001b[0mcross_validate\u001b[0m\u001b[0;34m,\u001b[0m \u001b[0mtrain_test_split\u001b[0m\u001b[0;34m\u001b[0m\u001b[0;34m\u001b[0m\u001b[0m\n\u001b[1;32m     14\u001b[0m \u001b[0;32mfrom\u001b[0m \u001b[0msurprise\u001b[0m\u001b[0;34m.\u001b[0m\u001b[0mmodel_selection\u001b[0m \u001b[0;32mimport\u001b[0m \u001b[0mKFold\u001b[0m \u001b[0;32mas\u001b[0m \u001b[0msurp_KFold\u001b[0m\u001b[0;34m\u001b[0m\u001b[0;34m\u001b[0m\u001b[0m\n",
            "\u001b[0;31mModuleNotFoundError\u001b[0m: No module named 'surprise'",
            "",
            "\u001b[0;31m---------------------------------------------------------------------------\u001b[0;32m\nNOTE: If your import is failing due to a missing package, you can\nmanually install dependencies using either !pip or !apt.\n\nTo view examples of installing some common dependencies, click the\n\"Open Examples\" button below.\n\u001b[0;31m---------------------------------------------------------------------------\u001b[0m\n"
          ]
        }
      ]
    },
    {
      "cell_type": "markdown",
      "metadata": {
        "id": "vds-9Qj95__5"
      },
      "source": [
        "#SVD"
      ]
    },
    {
      "cell_type": "markdown",
      "metadata": {
        "id": "IHr0fp8DYAar"
      },
      "source": [
        "##Functions"
      ]
    },
    {
      "cell_type": "code",
      "metadata": {
        "id": "hoaKWKw42LX4"
      },
      "source": [
        "def serendipity(baseline, predictionsRS):\n",
        "    unexp = np.setdiff1d(predictionsRS,baseline)\n",
        "    unexp = len(unexp)/len(predictionsRS)\n",
        "    return unexp\n",
        "\n",
        "def mean_confidence_interval(data, confidence=0.95):\n",
        "    a = 1.0 * np.array(data)\n",
        "    n = len(a)\n",
        "    m, se = np.mean(a), scipy.stats.sem(a)\n",
        "    h = se * scipy.stats.t.ppf((1 + confidence) / 2., n-1)\n",
        "    return m, m-(m-h)"
      ],
      "execution_count": null,
      "outputs": []
    },
    {
      "cell_type": "code",
      "metadata": {
        "id": "Z1OkLpAfu8zg"
      },
      "source": [
        "def getList(dict): \n",
        "    return dict.keys() \n",
        "\n",
        "def get_top_n(predictions, n=10):\n",
        "    '''Return the top-N recommendation for each user from a set of predictions.\n",
        "    Args:\n",
        "        predictions(list of Prediction objects): The list of predictions, as\n",
        "            returned by the test method of an algorithm.\n",
        "        n(int): The number of recommendation to output for each user. Default\n",
        "            is 10.\n",
        "    Returns:\n",
        "    A dict where keys are user (raw) ids and values are lists of tuples:\n",
        "        [(raw item id, rating estimation), ...] of size n.\n",
        "    '''\n",
        "\n",
        "    # First map the predictions to each user.\n",
        "    top_n = defaultdict(list)\n",
        "    for uid, iid, true_r, est, _ in predictions:\n",
        "        top_n[uid].append((iid, est))\n",
        "\n",
        "    # Then sort the predictions for each user and retrieve the k highest ones.\n",
        "    list_10_preds = []\n",
        "    for uid, user_ratings in top_n.items():\n",
        "        user_ratings.sort(key=lambda x: x[1], reverse=True)\n",
        "        top_n[uid] = user_ratings[:n]\n",
        "        if len(top_n[uid]) == 10:\n",
        "          list_10_preds.append(top_n[uid][0:10])\n",
        "\n",
        "    top_preds = []\n",
        "    for i in range(0, 10):\n",
        "      tuple_list = list_10_preds[i]\n",
        "      for iid, est in tuple_list:\n",
        "        top_preds.append(iid)\n",
        "\n",
        "    return top_preds\n",
        "\n",
        "def Convert(tup, di): \n",
        "    di = dict(tup) \n",
        "    return di "
      ],
      "execution_count": null,
      "outputs": []
    },
    {
      "cell_type": "markdown",
      "metadata": {
        "id": "Lf3EN6Gs6DYR"
      },
      "source": [
        "## Load Data"
      ]
    },
    {
      "cell_type": "code",
      "metadata": {
        "id": "v7NkapaFWoum"
      },
      "source": [
        "#Load data\n",
        "df = pd.read_csv('ratings.csv')\n",
        "df_map = pd.read_csv('movies.csv')\n",
        "\n",
        "df_map = df_map.drop(labels = ['genres'], axis=1)"
      ],
      "execution_count": null,
      "outputs": []
    },
    {
      "cell_type": "code",
      "metadata": {
        "id": "nzW_pBrJ6L_P"
      },
      "source": [
        "#Create dictionary\n",
        "df_map['tuples'] = list(zip(df_map.movieId, df_map.title))\n",
        "df_map.tuples\n",
        "  \n",
        "tups = df_map['tuples'].tolist()\n",
        "dictionary = {}\n",
        "title_dict = Convert(tups, dictionary)"
      ],
      "execution_count": null,
      "outputs": []
    },
    {
      "cell_type": "markdown",
      "metadata": {
        "id": "XUCNRXKaYRZr"
      },
      "source": [
        "## Data"
      ]
    },
    {
      "cell_type": "code",
      "metadata": {
        "id": "2kwokDBSCrJz"
      },
      "source": [
        "#Data\n",
        "df_pivot = pd.pivot_table(df, values = 'rating', index = 'userId', columns = 'movieId').fillna(0)\n",
        "data_matrix = np.array(df_pivot)"
      ],
      "execution_count": null,
      "outputs": []
    },
    {
      "cell_type": "markdown",
      "metadata": {
        "id": "SBHREkhPTPeE"
      },
      "source": [
        "## Primitive Method for Serendipity"
      ]
    },
    {
      "cell_type": "code",
      "metadata": {
        "id": "4FRc8uOdToS_"
      },
      "source": [
        "# Calculate item average for all users with explicit rating\n",
        "df_pivot = df_pivot.replace(0, np.NaN)\n",
        "item_averages = df_pivot.mean(axis=0)\n",
        "\n",
        "user_averages = df_pivot.fillna(0).astype(bool).sum(axis=0)"
      ],
      "execution_count": null,
      "outputs": []
    },
    {
      "cell_type": "code",
      "metadata": {
        "id": "EHqUMu-8WOE5"
      },
      "source": [
        "# Baseline model for serendipity\n",
        "pmm_items = item_averages.nlargest(50)\n",
        "pmm_users = user_averages.nlargest(50)\n",
        "pmm_total = pd.concat([pmm_items, pmm_users], ignore_index=False)\n",
        "baseline = np.unique(pmm_total.index)"
      ],
      "execution_count": null,
      "outputs": []
    },
    {
      "cell_type": "code",
      "metadata": {
        "id": "TJpY6ooPOHPF",
        "colab": {
          "base_uri": "https://localhost:8080/",
          "height": 221
        },
        "outputId": "5e10d879-1a25-4892-a5d2-c53a156737ff"
      },
      "source": [
        "len(baseline)\n"
      ],
      "execution_count": null,
      "outputs": [
        {
          "output_type": "execute_result",
          "data": {
            "text/plain": [
              "array([    1,    32,    47,    50,    53,    99,   110,   148,   150,\n",
              "         165,   260,   296,   318,   344,   356,   364,   367,   377,\n",
              "         380,   457,   467,   480,   495,   496,   500,   527,   588,\n",
              "         589,   590,   592,   593,   595,   608,   626,   633,   648,\n",
              "         780,   858,   876,  1036,  1140,  1151,  1196,  1198,  1210,\n",
              "        1214,  1270,  1310,  1349,  1580,  1631,  1759,  2028,  2075,\n",
              "        2196,  2512,  2571,  2762,  2824,  2858,  2959,  2969,  2972,\n",
              "        3073,  3086,  3096,  3303,  3473,  3496,  3531,  3567,  3578,\n",
              "        3637,  3678,  3687,  3792,  3795,  3851,  3939,  3940,  3941,\n",
              "        3942,  3951,  4116,  4135,  4180,  4226,  4306,  4402,  4454,\n",
              "        4495,  4788,  4813,  4993,  5059,  5088,  5952,  6539,  7153,\n",
              "       58559])"
            ]
          },
          "metadata": {
            "tags": []
          },
          "execution_count": 10
        }
      ]
    },
    {
      "cell_type": "markdown",
      "metadata": {
        "id": "E0C0RJSM6F0k"
      },
      "source": [
        "## Surprise SVD"
      ]
    },
    {
      "cell_type": "code",
      "metadata": {
        "id": "0M7Pn_AydGyU"
      },
      "source": [
        "#SURPRISE\n",
        "#Create Surprise Dataset from pandas dataframe\n",
        "reader = Reader(rating_scale=(1, 5))\n",
        "data = Dataset.load_from_df(df[['userId', 'movieId', 'rating']], reader)\n",
        "\n",
        "#KFold cv\n",
        "n_splits = 10\n",
        "kf = surp_KFold(n_splits=n_splits)"
      ],
      "execution_count": null,
      "outputs": []
    },
    {
      "cell_type": "code",
      "metadata": {
        "id": "RJ4Okg4_el8B"
      },
      "source": [
        "\n",
        "#Apply SVD to train_d\n",
        "algo = surprise.SVD(lr_all = 0.005, reg_all = 0.002, n_epochs = 20, n_factors = 15)\n",
        "\n",
        "svd_serendipity = np.zeros((n_splits))\n",
        "svd_rmse = np.zeros((n_splits))\n",
        "svd_time = np.zeros((n_splits))\n",
        "\n",
        "# for j in range(0,10):\n",
        "#   start = timeit.default_timer()\n",
        "for i, (train_d, test_d) in enumerate(kf.split(data)):\n",
        "    # train and test algorithm.\n",
        "    algo.fit(train_d)\n",
        "    predictions = algo.test(test_d)\n",
        "\n",
        "    top_predictions = get_top_n(predictions, 10)\n",
        "    svd_serendipity[i] = serendipity(baseline, top_predictions)\n",
        "\n",
        "    # Compute and print Root Mean Squared Error\n",
        "    svd_rmse[i] = accuracy.rmse(predictions, verbose = False)\n",
        "    \n",
        "  # stop = timeit.default_timer()\n",
        "  # svd_time[j] = stop-start"
      ],
      "execution_count": null,
      "outputs": []
    },
    {
      "cell_type": "code",
      "metadata": {
        "id": "9MLy-g2qOQUW",
        "colab": {
          "base_uri": "https://localhost:8080/",
          "height": 333
        },
        "outputId": "7223b65b-f8f9-4e58-a8c3-35b638a9d0df"
      },
      "source": [
        "est = []\n",
        "for p in predictions:\n",
        "  for i in p:\n",
        "    if isinstance(i, float):\n",
        "      est.append(i)\n",
        "plt.hist(est)\n"
      ],
      "execution_count": null,
      "outputs": [
        {
          "output_type": "execute_result",
          "data": {
            "text/plain": [
              "(array([ 130.,  299.,  250., 1004., 1330., 3690., 4200., 5381., 2201.,\n",
              "        1657.]),\n",
              " array([0.5 , 0.95, 1.4 , 1.85, 2.3 , 2.75, 3.2 , 3.65, 4.1 , 4.55, 5.  ]),\n",
              " <a list of 10 Patch objects>)"
            ]
          },
          "metadata": {
            "tags": []
          },
          "execution_count": 25
        },
        {
          "output_type": "display_data",
          "data": {
            "image/png": "[encoded data removed]",
            "text/plain": [
              "<Figure size 432x288 with 1 Axes>"
            ]
          },
          "metadata": {
            "tags": []
          }
        }
      ]
    },
    {
      "cell_type": "code",
      "metadata": {
        "id": "FU9mHFrzLdto",
        "colab": {
          "base_uri": "https://localhost:8080/",
          "height": 34
        },
        "outputId": "771cfc92-59f2-4d1a-da4f-b1a9c3c8e3ac"
      },
      "source": [
        "len(est)"
      ],
      "execution_count": null,
      "outputs": [
        {
          "output_type": "execute_result",
          "data": {
            "text/plain": [
              "20142"
            ]
          },
          "metadata": {
            "tags": []
          },
          "execution_count": 26
        }
      ]
    },
    {
      "cell_type": "markdown",
      "metadata": {
        "id": "vTRbeoqnIHhV"
      },
      "source": [
        "# Memory Based CF"
      ]
    },
    {
      "cell_type": "markdown",
      "metadata": {
        "id": "wd-Dp3VfYL7A"
      },
      "source": [
        "# Functions"
      ]
    },
    {
      "cell_type": "code",
      "metadata": {
        "id": "LgKbUiLSKN_S"
      },
      "source": [
        "def predict(ratings, similarity, type='user'):\n",
        "    if type == 'user':\n",
        "        #mean_user_rating = ratings.mean(axis=1)\n",
        "        mean_user_rating = ratings.sum(axis=1)/(ratings != 0).sum(axis=1)\n",
        "        # Use np.newaxis so that mean_user_rating has same format as ratings\n",
        "        ratings_diff = (ratings - mean_user_rating[:, np.newaxis])\n",
        "        pred = mean_user_rating[:, np.newaxis] + similarity.dot(ratings_diff) / np.array([np.abs(similarity).sum(axis=1)]).T\n",
        "    elif type == 'item':\n",
        "        pred = ratings.dot(similarity) / np.array([np.abs(similarity).sum(axis=1)])\n",
        "    return pred\n",
        "\n",
        "# Function to calculate RMSE\n",
        "def rmse(pred, actual):\n",
        "    # Ignore zero terms.\n",
        "    pred = pred[actual.nonzero()].flatten()\n",
        "    actual = actual[actual.nonzero()].flatten()\n",
        "    return sqrt(mean_squared_error(pred, actual))"
      ],
      "execution_count": null,
      "outputs": []
    },
    {
      "cell_type": "markdown",
      "metadata": {
        "id": "-SzN7Tp8Ycqt"
      },
      "source": [
        "## User-Based"
      ]
    },
    {
      "cell_type": "code",
      "metadata": {
        "id": "yZNYuVp2PO-h"
      },
      "source": [
        "import random\n",
        "\n",
        "def top_n_predictions_user(user_prediction, n=100):\n",
        "  random_seq = [random.randint(0, len(user_prediction) - 1) for i in range(0, 10)]\n",
        "  random_user_matrix = np.zeros((len(random_seq), 10))\n",
        "  for i, j in enumerate(random_seq):\n",
        "    sorted_prediction = user_prediction[j].argsort()[-10:][::-1]\n",
        "    random_user_matrix[i] = sorted_prediction\n",
        "\n",
        "  return random_user_matrix.flatten()"
      ],
      "execution_count": null,
      "outputs": []
    },
    {
      "cell_type": "code",
      "metadata": {
        "id": "YDEsxo-OIe0G"
      },
      "source": [
        "#USER\n",
        "\n",
        "kf = sk_KFold(n_splits = n_splits)\n",
        "\n",
        "user_rmse = np.zeros((n_splits))\n",
        "user_serendipity = np.zeros((n_splits))\n",
        "user_time = np.zeros((n_splits))\n",
        "\n",
        "#for j in range(0, 10):\n",
        "  #start = timeit.default_timer()  \n",
        "for i, (train_ind, test_ind) in enumerate(kf.split(data_matrix)):\n",
        "  # User Similarity Matrix\n",
        "  user_correlation = 1 - pairwise_distances(data_matrix[train_ind], metric='correlation')\n",
        "  user_correlation[np.isnan(user_correlation)] = 0\n",
        "  user_prediction = predict(data_matrix[train_ind], user_correlation, type='user')\n",
        "\n",
        "  #linear mapping\n",
        "  user_prediction = np.interp(user_prediction, (user_prediction.min(), user_prediction.max()), (1, 5))\n",
        "  top_user_predictions = top_n_predictions_user(user_prediction)\n",
        "\n",
        "  user_rmse[i] = rmse(user_prediction, data_matrix[train_ind])\n",
        "  user_serendipity[i] = serendipity(baseline, top_user_predictions)\n",
        "\n",
        "  #stop = timeit.default_timer()\n",
        "  #user_time[j] = stop - start"
      ],
      "execution_count": null,
      "outputs": []
    },
    {
      "cell_type": "code",
      "metadata": {
        "id": "2cFb4qYjJJSr",
        "colab": {
          "base_uri": "https://localhost:8080/",
          "height": 367
        },
        "outputId": "8248d94c-976d-490b-e38e-e3dc426b05a2"
      },
      "source": [
        "sample_user_preds = np.random.choice(user_prediction.flatten(), size=len(est), replace=False)\n",
        "plt.hist(sample_user_preds)"
      ],
      "execution_count": null,
      "outputs": [
        {
          "output_type": "execute_result",
          "data": {
            "text/plain": [
              "(array([ 399., 1508., 5392., 8034., 3579.,  950.,  174.,   30.,   38.,\n",
              "          38.]),\n",
              " array([1.00039452, 1.30989498, 1.61939543, 1.92889589, 2.23839634,\n",
              "        2.5478968 , 2.85739726, 3.16689771, 3.47639817, 3.78589862,\n",
              "        4.09539908]),\n",
              " <a list of 10 Patch objects>)"
            ]
          },
          "metadata": {
            "tags": []
          },
          "execution_count": 32
        },
        {
          "output_type": "display_data",
          "data": {
            "image/png": "[encoded data removed]",
            "text/plain": [
              "<Figure size 432x288 with 1 Axes>"
            ]
          },
          "metadata": {
            "tags": []
          }
        }
      ]
    },
    {
      "cell_type": "markdown",
      "metadata": {
        "id": "a2kasJGFYg-R"
      },
      "source": [
        "## Item-Based"
      ]
    },
    {
      "cell_type": "code",
      "metadata": {
        "id": "L1rvE5DELLBD"
      },
      "source": [
        "#ITEM\n",
        "\n",
        "item_rmse = np.zeros((n_splits))\n",
        "item_serendipity = np.zeros((n_splits))\n",
        "item_time = np.zeros((n_splits))\n",
        "\n",
        "#for j in range(0, 10):\n",
        "  #start = timeit.default_timer()  \n",
        "for i, (train_ind, test_ind) in enumerate(kf.split(data_matrix)):\n",
        "  # Item similarity Matrix\n",
        "  item_correlation = 1 - pairwise_distances(data_matrix[train_ind].T, metric='correlation')\n",
        "  item_correlation[np.isnan(item_correlation)] = 0\n",
        "  item_prediction = predict(data_matrix[train_ind], item_correlation, type='item')\n",
        "\n",
        "  #linear mapping\n",
        "  item_prediction = np.interp(item_prediction, (item_prediction.min(), item_prediction.max()), (1, 5))\n",
        "  top_item_predictions = top_n_predictions_user(item_prediction)\n",
        "\n",
        "  item_rmse[i] = rmse(item_prediction, data_matrix[train_ind])\n",
        "  item_serendipity[i] = serendipity(baseline, top_item_predictions)\n",
        "\n",
        "  #stop = timeit.default_timer()\n",
        "  #item_time[j] = stop - start\n"
      ],
      "execution_count": null,
      "outputs": []
    },
    {
      "cell_type": "code",
      "metadata": {
        "id": "73XVqNOKOlGT",
        "colab": {
          "base_uri": "https://localhost:8080/",
          "height": 371
        },
        "outputId": "867075a2-e266-43f0-d6ef-c93142b98ffe"
      },
      "source": [
        "sample_item_preds = np.random.choice(item_prediction.flatten(), size=len(est), replace=False)\n",
        "plt.hist(sample_item_preds)"
      ],
      "execution_count": null,
      "outputs": [
        {
          "output_type": "execute_result",
          "data": {
            "text/plain": [
              "(array([5.3000e+01, 1.9099e+04, 8.3300e+02, 1.0600e+02, 2.1000e+01,\n",
              "        1.0000e+01, 7.0000e+00, 5.0000e+00, 6.0000e+00, 2.0000e+00]),\n",
              " array([1.70900003, 2.03810002, 2.36720002, 2.69630002, 3.02540002,\n",
              "        3.35450001, 3.68360001, 4.01270001, 4.34180001, 4.6709    ,\n",
              "        5.        ]),\n",
              " <a list of 10 Patch objects>)"
            ]
          },
          "metadata": {
            "tags": []
          },
          "execution_count": 35
        },
        {
          "output_type": "display_data",
          "data": {
            "image/png": "[encoded data removed]",
            "text/plain": [
              "<Figure size 432x288 with 1 Axes>"
            ]
          },
          "metadata": {
            "tags": []
          }
        }
      ]
    },
    {
      "cell_type": "markdown",
      "metadata": {
        "id": "Bp5LzMblO3oI"
      },
      "source": [
        "## Calculate mean and confidence interval"
      ]
    },
    {
      "cell_type": "code",
      "metadata": {
        "id": "MdcPgEZcO7v9",
        "colab": {
          "base_uri": "https://localhost:8080/",
          "height": 34
        },
        "outputId": "3a17086e-54a2-48c2-f037-667eb29406e0"
      },
      "source": [
        "# mean_confidence_interval(item_serendipity, confidence=0.95)\n",
        "# mean_confidence_interval(user_serendipity, confidence=0.95)\n",
        "# mean_confidence_interval(svd_serendipity, confidence=0.95)\n",
        "\n",
        "# mean_confidence_interval(item_rmse, confidence=0.95)\n",
        "# mean_confidence_interval(user_rmse, confidence=0.95)\n",
        "# mean_confidence_interval(svd_rmse, confidence=0.95)\n",
        "\n",
        "mean_confidence_interval(item_time, confidence=0.95)\n",
        "# mean_confidence_interval(user_time, confidence=0.95)\n",
        "# mean_confidence_interval(svd_time, confidence=0.95)\n"
      ],
      "execution_count": null,
      "outputs": [
        {
          "output_type": "execute_result",
          "data": {
            "text/plain": [
              "(204.72598199559997, 1.6314746569840963)"
            ]
          },
          "metadata": {
            "tags": []
          },
          "execution_count": 113
        }
      ]
    },
    {
      "cell_type": "code",
      "metadata": {
        "id": "etoGMIlBfPL1"
      },
      "source": [
        ""
      ],
      "execution_count": null,
      "outputs": []
    },
    {
      "cell_type": "markdown",
      "metadata": {
        "id": "nD-ovuhQZ8Gs"
      },
      "source": [
        "## Visualisation"
      ]
    },
    {
      "cell_type": "code",
      "metadata": {
        "id": "f7tfNQ1-Z9l_",
        "colab": {
          "base_uri": "https://localhost:8080/",
          "height": 312
        },
        "outputId": "71733054-804b-4028-c0fc-e24acaf0d652"
      },
      "source": [
        "sample_explicit_preds = np.random.choice(data_matrix[data_matrix != 0], size=len(est), replace=False)\n",
        "plt.figure(0)\n",
        "plt.title(\"Rating distribution\")\n",
        "plt.xlabel(\"Rating\")\n",
        "plt.hist(sample_explicit_preds, alpha=0.5, label=\"Explicit rating\")\n",
        "plt.hist(sample_user_preds, alpha = 0.5, label=\"User CF\")\n",
        "plt.legend(loc=\"upper right\")\n"
      ],
      "execution_count": null,
      "outputs": [
        {
          "output_type": "execute_result",
          "data": {
            "text/plain": [
              "<matplotlib.legend.Legend at 0x7f8b0e49f2e8>"
            ]
          },
          "metadata": {
            "tags": []
          },
          "execution_count": 46
        },
        {
          "output_type": "display_data",
          "data": {
            "image/png": "[encoded data removed]",
            "text/plain": [
              "<Figure size 432x288 with 1 Axes>"
            ]
          },
          "metadata": {
            "tags": []
          }
        }
      ]
    },
    {
      "cell_type": "code",
      "metadata": {
        "id": "q2HK0MNyaAZA",
        "colab": {
          "base_uri": "https://localhost:8080/",
          "height": 312
        },
        "outputId": "4f9904d5-ea31-4cc2-ce80-f12e21551d42"
      },
      "source": [
        "plt.figure(1)\n",
        "plt.title(\"Rating distribution\")\n",
        "plt.xlabel(\"Rating\")\n",
        "plt.hist(sample_explicit_preds, alpha=0.5, label=\"Explicit rating\")\n",
        "plt.hist(sample_item_preds, alpha = 0.5, label=\"Item CF\")\n",
        "plt.legend(loc=\"upper right\")\n"
      ],
      "execution_count": null,
      "outputs": [
        {
          "output_type": "execute_result",
          "data": {
            "text/plain": [
              "<matplotlib.legend.Legend at 0x7f8b0e4cf9e8>"
            ]
          },
          "metadata": {
            "tags": []
          },
          "execution_count": 47
        },
        {
          "output_type": "display_data",
          "data": {
            "image/png": "[encoded data removed]",
            "text/plain": [
              "<Figure size 432x288 with 1 Axes>"
            ]
          },
          "metadata": {
            "tags": []
          }
        }
      ]
    },
    {
      "cell_type": "code",
      "metadata": {
        "id": "D-YQtNsncOVT",
        "colab": {
          "base_uri": "https://localhost:8080/",
          "height": 312
        },
        "outputId": "09fb063b-780b-41a2-f2d0-ce1f7a353562"
      },
      "source": [
        "plt.figure(2)\n",
        "plt.title(\"Rating distribution\")\n",
        "plt.xlabel(\"Rating\")\n",
        "plt.hist(sample_explicit_preds, alpha=0.5, label=\"Explicit rating\")\n",
        "plt.hist(est, alpha = 0.5, label=\"SVD\")\n",
        "plt.legend(loc=\"upper right\")"
      ],
      "execution_count": null,
      "outputs": [
        {
          "output_type": "execute_result",
          "data": {
            "text/plain": [
              "<matplotlib.legend.Legend at 0x7f8b0e0650b8>"
            ]
          },
          "metadata": {
            "tags": []
          },
          "execution_count": 48
        },
        {
          "output_type": "display_data",
          "data": {
            "image/png": "[encoded data removed]",
            "text/plain": [
              "<Figure size 432x288 with 1 Axes>"
            ]
          },
          "metadata": {
            "tags": []
          }
        }
      ]
    },
    {
      "cell_type": "code",
      "metadata": {
        "id": "fnq7NvYbcmat"
      },
      "source": [
        ""
      ],
      "execution_count": null,
      "outputs": []
    }
  ]
}